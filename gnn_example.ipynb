{
 "cells": [
  {
   "cell_type": "markdown",
   "metadata": {},
   "source": [
    "GAT:\n",
    "https://arxiv.org/pdf/1710.10903.pdf\n",
    "\n",
    "GATv2:\n",
    "\n",
    "https://arxiv.org/pdf/2105.14491.pdf\n",
    "\n",
    "https://pytorch-geometric.readthedocs.io/en/latest/generated/torch_geometric.nn.conv.GATv2Conv.html?highlight=gatv2"
   ]
  },
  {
   "cell_type": "code",
   "execution_count": 1,
   "metadata": {},
   "outputs": [],
   "source": [
    "import torch\n",
    "import torch.nn.functional as F\n",
    "from torch_geometric.datasets import Planetoid\n",
    "from torch_geometric.nn import GATConv, GATv2Conv\n",
    "from torch_geometric.loader import DataLoader\n"
   ]
  },
  {
   "cell_type": "code",
   "execution_count": 2,
   "metadata": {},
   "outputs": [],
   "source": [
    "dataset = Planetoid(root='./tmp/Cora', name='Cora')"
   ]
  },
  {
   "cell_type": "code",
   "execution_count": 3,
   "metadata": {},
   "outputs": [],
   "source": [
    "class GAT(torch.nn.Module):\n",
    "    def __init__(self, in_channels, out_channels):\n",
    "        super(GAT, self).__init__()\n",
    "        self.conv1 = GATv2Conv(in_channels, 8, heads=8, dropout=0.6)\n",
    "        # On the Pubmed dataset, use heads=8 in conv2.\n",
    "        self.conv2 = GATv2Conv(8 * 8, out_channels, heads=1, concat=False, dropout=0.6)\n",
    "\n",
    "    def forward(self, data):\n",
    "        x, edge_index = data.x, data.edge_index\n",
    "        x = F.dropout(x, p=0.6, training=self.training)\n",
    "        x = F.elu(self.conv1(x, edge_index))\n",
    "        x = F.dropout(x, p=0.6, training=self.training)\n",
    "        x = self.conv2(x, edge_index)\n",
    "        return F.log_softmax(x, dim=1)"
   ]
  },
  {
   "cell_type": "code",
   "execution_count": 4,
   "metadata": {},
   "outputs": [],
   "source": [
    "device = torch.device('cuda' if torch.cuda.is_available() else 'cpu')\n",
    "\n",
    "model_normal = GAT(dataset.num_node_features, dataset.num_classes).to(device)\n",
    "model_orthogonal = GAT(dataset.num_node_features, dataset.num_classes).to(device)\n",
    "\n",
    "data = dataset[0].to(device)\n",
    "# optimizer = torch.optim.Adam(model.parameters(), lr=0.005, weight_decay=5e-4)\n"
   ]
  },
  {
   "cell_type": "code",
   "execution_count": 5,
   "metadata": {},
   "outputs": [
    {
     "name": "stdout",
     "output_type": "stream",
     "text": [
      "Name: conv1.att, Value: torch.Size([1, 8, 8])\n",
      "Name: conv1.bias, Value: torch.Size([64])\n",
      "Name: conv1.lin_l.weight, Value: torch.Size([64, 1433])\n",
      "Name: conv1.lin_l.bias, Value: torch.Size([64])\n",
      "Name: conv1.lin_r.weight, Value: torch.Size([64, 1433])\n",
      "Name: conv1.lin_r.bias, Value: torch.Size([64])\n",
      "Name: conv2.att, Value: torch.Size([1, 1, 7])\n",
      "Name: conv2.bias, Value: torch.Size([7])\n",
      "Name: conv2.lin_l.weight, Value: torch.Size([7, 64])\n",
      "Name: conv2.lin_l.bias, Value: torch.Size([7])\n",
      "Name: conv2.lin_r.weight, Value: torch.Size([7, 64])\n",
      "Name: conv2.lin_r.bias, Value: torch.Size([7])\n"
     ]
    }
   ],
   "source": [
    "# Assuming 'model' is your PyTorch model\n",
    "for name, param in model_orthogonal.named_parameters():\n",
    "#     print(f\"Name: {name}, Value: {param}\")\n",
    "        print(f\"Name: {name}, Value: {param.size()}\")"
   ]
  },
  {
   "cell_type": "code",
   "execution_count": 6,
   "metadata": {},
   "outputs": [],
   "source": [
    "from StiefelOptimizers import StiefelAdam, CombinedOptimizer\n",
    "\n",
    "euclidean_parameters = []\n",
    "stiefel_parameters = []\n",
    "\n",
    "all_parameters = []\n",
    "\n",
    "# put the Euclidean and Stiefel parameters into 2 different list\n",
    "for name, param in model_orthogonal.named_parameters():\n",
    "    # print(name)\n",
    "    if name=='conv1.lin_l.weight' or name=='conv1.lin_r.weight':\n",
    "        # torch.nn.init.orthogonal_(param) # optional\n",
    "        stiefel_parameters.append(param)\n",
    "    else:\n",
    "        # print(param)\n",
    "        euclidean_parameters.append(param)\n",
    "\n",
    "# add all parameters to the all_parameters list:\n",
    "for name, param in model_normal.named_parameters():\n",
    "    all_parameters.append(param)\n",
    "\n",
    "\n",
    "if len(euclidean_parameters)==0:\n",
    "    optimizer_stiefel=StiefelAdam(stiefel_parameters, lr=0.001)\n",
    "    optimizer_orthogonal=optimizer_stiefel\n",
    "else:\n",
    "    optimizer_euclidean=torch.optim.Adam(euclidean_parameters, lr=0.001)\n",
    "    optimizer_stiefel=StiefelAdam(stiefel_parameters, lr=0.001)\n",
    "    # combine the two optimizers\n",
    "    optimizer_orthogonal=CombinedOptimizer(optimizer_euclidean, optimizer_stiefel)\n",
    "\n",
    "\n",
    "\n",
    "optimizer_normal = torch.optim.Adam(all_parameters, lr=0.001)"
   ]
  },
  {
   "cell_type": "code",
   "execution_count": 7,
   "metadata": {},
   "outputs": [
    {
     "name": "stderr",
     "output_type": "stream",
     "text": [
      "Training: 100%|██████████| 200/200 [00:43<00:00,  4.60epoch/s, loss=0.589]\n",
      "Training: 100%|██████████| 200/200 [00:46<00:00,  4.31epoch/s, loss=0.901]\n"
     ]
    }
   ],
   "source": [
    "from tqdm import tqdm\n",
    "\n",
    "model_normal.train()\n",
    "pbar = tqdm(range(200), desc='Training', unit='epoch')\n",
    "for epoch in pbar:\n",
    "    def closure():\n",
    "        optimizer_normal.zero_grad()\n",
    "        out = model_normal(data)\n",
    "        loss = F.nll_loss(out[data.train_mask], data.y[data.train_mask])\n",
    "        loss.backward()\n",
    "        return loss\n",
    "    optimizer_normal.step(closure)\n",
    "    pbar.set_postfix({'loss': closure().item()})\n",
    "\n",
    "\n",
    "model_orthogonal.train()\n",
    "pbar = tqdm(range(200), desc='Training', unit='epoch')\n",
    "for epoch in pbar:\n",
    "    def closure():\n",
    "        optimizer_orthogonal.zero_grad()\n",
    "        out = model_orthogonal(data)\n",
    "        loss = F.nll_loss(out[data.train_mask], data.y[data.train_mask])\n",
    "        loss.backward()\n",
    "        return loss\n",
    "    optimizer_orthogonal.step(closure)\n",
    "    pbar.set_postfix({'loss': closure().item()})"
   ]
  },
  {
   "cell_type": "code",
   "execution_count": 8,
   "metadata": {},
   "outputs": [
    {
     "name": "stdout",
     "output_type": "stream",
     "text": [
      "Accuracy, non-orthogonal learning: 0.7920\n"
     ]
    }
   ],
   "source": [
    "model_normal.eval()\n",
    "_, pred = model_normal(data).max(dim=1)\n",
    "correct = int(pred[data.test_mask].eq(data.y[data.test_mask]).sum().item())\n",
    "accuracy = correct / int(data.test_mask.sum())\n",
    "print(f'Accuracy, non-orthogonal learning: {accuracy:.4f}')\n"
   ]
  },
  {
   "cell_type": "code",
   "execution_count": 9,
   "metadata": {},
   "outputs": [
    {
     "name": "stdout",
     "output_type": "stream",
     "text": [
      "Accuracy, orthogonal learning: 0.8260\n"
     ]
    }
   ],
   "source": [
    "model_orthogonal.eval()\n",
    "_, pred = model_orthogonal(data).max(dim=1)\n",
    "correct = int(pred[data.test_mask].eq(data.y[data.test_mask]).sum().item())\n",
    "accuracy = correct / int(data.test_mask.sum())\n",
    "print(f'Accuracy, orthogonal learning: {accuracy:.4f}')"
   ]
  }
 ],
 "metadata": {
  "kernelspec": {
   "display_name": "base",
   "language": "python",
   "name": "python3"
  },
  "language_info": {
   "codemirror_mode": {
    "name": "ipython",
    "version": 3
   },
   "file_extension": ".py",
   "mimetype": "text/x-python",
   "name": "python",
   "nbconvert_exporter": "python",
   "pygments_lexer": "ipython3",
   "version": "3.12.2"
  }
 },
 "nbformat": 4,
 "nbformat_minor": 2
}
